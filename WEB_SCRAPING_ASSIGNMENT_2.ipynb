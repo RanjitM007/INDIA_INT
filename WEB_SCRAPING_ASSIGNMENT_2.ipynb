{
 "cells": [
  {
   "cell_type": "code",
   "execution_count": 1,
   "metadata": {},
   "outputs": [],
   "source": [
    "#Importing the library\n",
    "import pandas as pd\n",
    "import numpy as np\n",
    "import requests\n",
    "import selenium\n",
    "from selenium import webdriver\n",
    "from bs4 import BeautifulSoup\n",
    "#importing the Web driver\n",
    "driver=webdriver.Chrome(r\"C:\\Users\\Ranjit M\\chromedriver.exe\")\n",
    "import time"
   ]
  },
  {
   "cell_type": "markdown",
   "metadata": {},
   "source": [
    "# Q1: Write a python program to scrape data for “Data Analyst” Job position in “Bangalore” location. You have to scrape the job-title, job-location, company_name, experience_required. "
   ]
  },
  {
   "cell_type": "code",
   "execution_count": 2,
   "metadata": {},
   "outputs": [],
   "source": [
    "#initializtion of url\n",
    "url=\"https://www.naukri.com/data-analyst-jobs-in-bangalore?k=data%20analyst&l=bangalore\"\n",
    "driver.get(url)\n"
   ]
  },
  {
   "cell_type": "code",
   "execution_count": 3,
   "metadata": {},
   "outputs": [],
   "source": [
    "#creating Empty list\n",
    "job_titel=[]\n",
    "job_loc=[]\n",
    "company_name=[]\n",
    "exp=[]"
   ]
  },
  {
   "cell_type": "code",
   "execution_count": 4,
   "metadata": {},
   "outputs": [
    {
     "data": {
      "text/plain": [
       "['Data Scientist/Data Analyst-immediate',\n",
       " 'Immediate openings For MIS executive /Data analyst For Bangalore',\n",
       " 'Data Analyst',\n",
       " 'Data Analyst',\n",
       " 'Data Analyst',\n",
       " 'Data Analyst',\n",
       " 'Procurement Data Analyst ( 0.6 To 3 Yrs, Bangalore)',\n",
       " 'Data Analyst',\n",
       " 'Data Analyst',\n",
       " 'Business Analyst / Data Analyst']"
      ]
     },
     "execution_count": 4,
     "metadata": {},
     "output_type": "execute_result"
    }
   ],
   "source": [
    "#Getting The Data for Job_Titel\n",
    "job_tags=driver.find_elements_by_xpath(\"//a[@class='title fw500 ellipsis']\")\n",
    "for i in job_tags:\n",
    "    job_titel.append(i.text)\n",
    "job_titel=job_titel[0:10]\n",
    "job_titel"
   ]
  },
  {
   "cell_type": "code",
   "execution_count": 5,
   "metadata": {},
   "outputs": [
    {
     "data": {
      "text/plain": [
       "['Chennai, Pune, Bengaluru, Hyderabad',\n",
       " 'Bengaluru',\n",
       " 'Bengaluru',\n",
       " 'Mumbai, Bengaluru, Hyderabad',\n",
       " 'Bengaluru',\n",
       " 'Bengaluru',\n",
       " 'Bengaluru(Koramangala)',\n",
       " 'Bengaluru',\n",
       " 'Bengaluru, Kolkata',\n",
       " 'Bengaluru']"
      ]
     },
     "execution_count": 5,
     "metadata": {},
     "output_type": "execute_result"
    }
   ],
   "source": [
    "loc_tags=driver.find_elements_by_xpath(\"//li[@class='fleft grey-text br2 placeHolderLi location']\")\n",
    "for i in loc_tags:\n",
    "    job_loc.append(i.text)\n",
    "job_loc=job_loc[0:10]\n",
    "job_loc"
   ]
  },
  {
   "cell_type": "code",
   "execution_count": 6,
   "metadata": {},
   "outputs": [
    {
     "data": {
      "text/plain": [
       "['CAIA-Center For Artificial Intelligence & Advanced Analytics',\n",
       " 'RANDSTAD INDIA PVT LTD',\n",
       " 'Applied Materials',\n",
       " 'Cognizant Technology Solutions India Pvt Ltd',\n",
       " 'St. John’s Research Institute',\n",
       " 'Siemens Limited',\n",
       " 'Sunstream Global Technologies LLP',\n",
       " 'GlaxoSmithKline Pharmaceuticals Limited',\n",
       " 'Cognizant Technology Solutions India Pvt Ltd',\n",
       " 'Schneider Electric India Pvt. Ltd.']"
      ]
     },
     "execution_count": 6,
     "metadata": {},
     "output_type": "execute_result"
    }
   ],
   "source": [
    "name_tags=driver.find_elements_by_xpath(\"//a[@class='subTitle ellipsis fleft']\")\n",
    "for i in name_tags:\n",
    "    company_name.append(i.text)\n",
    "company_name=company_name[0:10]\n",
    "company_name"
   ]
  },
  {
   "cell_type": "code",
   "execution_count": 7,
   "metadata": {},
   "outputs": [
    {
     "data": {
      "text/plain": [
       "['0-3 Yrs',\n",
       " '3-8 Yrs',\n",
       " '6-11 Yrs',\n",
       " '2-3 Yrs',\n",
       " '0-4 Yrs',\n",
       " '0-3 Yrs',\n",
       " '0-3 Yrs',\n",
       " '2-7 Yrs',\n",
       " '3-4 Yrs',\n",
       " '2-5 Yrs']"
      ]
     },
     "execution_count": 7,
     "metadata": {},
     "output_type": "execute_result"
    }
   ],
   "source": [
    "exp_tags=driver.find_elements_by_xpath(\"//li[@class='fleft grey-text br2 placeHolderLi experience']\")\n",
    "for i in exp_tags:\n",
    "    exp.append(i.text)\n",
    "exp=exp[0:10]\n",
    "exp"
   ]
  },
  {
   "cell_type": "code",
   "execution_count": 8,
   "metadata": {},
   "outputs": [
    {
     "name": "stdout",
     "output_type": "stream",
     "text": [
      "10 10 10 10\n"
     ]
    }
   ],
   "source": [
    "#checking the length of each list\n",
    "print(len(job_titel),len(company_name),len(job_loc),len(exp))"
   ]
  },
  {
   "cell_type": "code",
   "execution_count": 9,
   "metadata": {},
   "outputs": [
    {
     "data": {
      "text/html": [
       "<div>\n",
       "<style scoped>\n",
       "    .dataframe tbody tr th:only-of-type {\n",
       "        vertical-align: middle;\n",
       "    }\n",
       "\n",
       "    .dataframe tbody tr th {\n",
       "        vertical-align: top;\n",
       "    }\n",
       "\n",
       "    .dataframe thead th {\n",
       "        text-align: right;\n",
       "    }\n",
       "</style>\n",
       "<table border=\"1\" class=\"dataframe\">\n",
       "  <thead>\n",
       "    <tr style=\"text-align: right;\">\n",
       "      <th></th>\n",
       "      <th>JOB_TITEL</th>\n",
       "      <th>COMPPANY_NAME</th>\n",
       "      <th>EXPERIENCE</th>\n",
       "      <th>LOCATION</th>\n",
       "    </tr>\n",
       "  </thead>\n",
       "  <tbody>\n",
       "    <tr>\n",
       "      <th>0</th>\n",
       "      <td>Data Scientist/Data Analyst-immediate</td>\n",
       "      <td>CAIA-Center For Artificial Intelligence &amp; Adva...</td>\n",
       "      <td>0-3 Yrs</td>\n",
       "      <td>Chennai, Pune, Bengaluru, Hyderabad</td>\n",
       "    </tr>\n",
       "    <tr>\n",
       "      <th>1</th>\n",
       "      <td>Immediate openings For MIS executive /Data ana...</td>\n",
       "      <td>RANDSTAD INDIA PVT LTD</td>\n",
       "      <td>3-8 Yrs</td>\n",
       "      <td>Bengaluru</td>\n",
       "    </tr>\n",
       "    <tr>\n",
       "      <th>2</th>\n",
       "      <td>Data Analyst</td>\n",
       "      <td>Applied Materials</td>\n",
       "      <td>6-11 Yrs</td>\n",
       "      <td>Bengaluru</td>\n",
       "    </tr>\n",
       "    <tr>\n",
       "      <th>3</th>\n",
       "      <td>Data Analyst</td>\n",
       "      <td>Cognizant Technology Solutions India Pvt Ltd</td>\n",
       "      <td>2-3 Yrs</td>\n",
       "      <td>Mumbai, Bengaluru, Hyderabad</td>\n",
       "    </tr>\n",
       "    <tr>\n",
       "      <th>4</th>\n",
       "      <td>Data Analyst</td>\n",
       "      <td>St. John’s Research Institute</td>\n",
       "      <td>0-4 Yrs</td>\n",
       "      <td>Bengaluru</td>\n",
       "    </tr>\n",
       "    <tr>\n",
       "      <th>5</th>\n",
       "      <td>Data Analyst</td>\n",
       "      <td>Siemens Limited</td>\n",
       "      <td>0-3 Yrs</td>\n",
       "      <td>Bengaluru</td>\n",
       "    </tr>\n",
       "    <tr>\n",
       "      <th>6</th>\n",
       "      <td>Procurement Data Analyst ( 0.6 To 3 Yrs, Banga...</td>\n",
       "      <td>Sunstream Global Technologies LLP</td>\n",
       "      <td>0-3 Yrs</td>\n",
       "      <td>Bengaluru(Koramangala)</td>\n",
       "    </tr>\n",
       "    <tr>\n",
       "      <th>7</th>\n",
       "      <td>Data Analyst</td>\n",
       "      <td>GlaxoSmithKline Pharmaceuticals Limited</td>\n",
       "      <td>2-7 Yrs</td>\n",
       "      <td>Bengaluru</td>\n",
       "    </tr>\n",
       "    <tr>\n",
       "      <th>8</th>\n",
       "      <td>Data Analyst</td>\n",
       "      <td>Cognizant Technology Solutions India Pvt Ltd</td>\n",
       "      <td>3-4 Yrs</td>\n",
       "      <td>Bengaluru, Kolkata</td>\n",
       "    </tr>\n",
       "    <tr>\n",
       "      <th>9</th>\n",
       "      <td>Business Analyst / Data Analyst</td>\n",
       "      <td>Schneider Electric India Pvt. Ltd.</td>\n",
       "      <td>2-5 Yrs</td>\n",
       "      <td>Bengaluru</td>\n",
       "    </tr>\n",
       "  </tbody>\n",
       "</table>\n",
       "</div>"
      ],
      "text/plain": [
       "                                           JOB_TITEL  \\\n",
       "0              Data Scientist/Data Analyst-immediate   \n",
       "1  Immediate openings For MIS executive /Data ana...   \n",
       "2                                       Data Analyst   \n",
       "3                                       Data Analyst   \n",
       "4                                       Data Analyst   \n",
       "5                                       Data Analyst   \n",
       "6  Procurement Data Analyst ( 0.6 To 3 Yrs, Banga...   \n",
       "7                                       Data Analyst   \n",
       "8                                       Data Analyst   \n",
       "9                    Business Analyst / Data Analyst   \n",
       "\n",
       "                                       COMPPANY_NAME EXPERIENCE  \\\n",
       "0  CAIA-Center For Artificial Intelligence & Adva...    0-3 Yrs   \n",
       "1                             RANDSTAD INDIA PVT LTD    3-8 Yrs   \n",
       "2                                  Applied Materials   6-11 Yrs   \n",
       "3       Cognizant Technology Solutions India Pvt Ltd    2-3 Yrs   \n",
       "4                      St. John’s Research Institute    0-4 Yrs   \n",
       "5                                    Siemens Limited    0-3 Yrs   \n",
       "6                  Sunstream Global Technologies LLP    0-3 Yrs   \n",
       "7            GlaxoSmithKline Pharmaceuticals Limited    2-7 Yrs   \n",
       "8       Cognizant Technology Solutions India Pvt Ltd    3-4 Yrs   \n",
       "9                 Schneider Electric India Pvt. Ltd.    2-5 Yrs   \n",
       "\n",
       "                              LOCATION  \n",
       "0  Chennai, Pune, Bengaluru, Hyderabad  \n",
       "1                            Bengaluru  \n",
       "2                            Bengaluru  \n",
       "3         Mumbai, Bengaluru, Hyderabad  \n",
       "4                            Bengaluru  \n",
       "5                            Bengaluru  \n",
       "6               Bengaluru(Koramangala)  \n",
       "7                            Bengaluru  \n",
       "8                   Bengaluru, Kolkata  \n",
       "9                            Bengaluru  "
      ]
     },
     "execution_count": 9,
     "metadata": {},
     "output_type": "execute_result"
    }
   ],
   "source": [
    "#creating a DataFrame\n",
    "Data_Analyst_BLR=pd.DataFrame({\"JOB_TITEL\":job_titel,\"COMPPANY_NAME\":company_name,\"EXPERIENCE\":exp,\"LOCATION\":job_loc})\n",
    "Data_Analyst_BLR"
   ]
  },
  {
   "cell_type": "code",
   "execution_count": 10,
   "metadata": {},
   "outputs": [],
   "source": [
    "Data_Analyst_BLR.to_csv(\"Data_Analyst_BLR.csv\")"
   ]
  },
  {
   "cell_type": "markdown",
   "metadata": {},
   "source": [
    "# Q2: Write a python program to scrape data for “Data Scientist” Job position in “Bangalore” location. You have to scrape the job-title, job-location, company_name, full job-description."
   ]
  },
  {
   "cell_type": "code",
   "execution_count": 11,
   "metadata": {},
   "outputs": [
    {
     "data": {
      "text/plain": [
       "['https://www.naukri.com/job-listings-data-scientist-data-analyst-immediate-caia-center-for-artificial-intelligence-advanced-analytics-chennai-pune-bengaluru-bangalore-hyderabad-secunderabad-0-to-3-years-210920000599?src=jobsearchDesk&sid=16119257559152031&xp=1&px=1',\n",
       " 'https://www.naukri.com/job-listings-hcl-hiring-data-scientist-with-exp-in-machine-learning-sql-bangalore-hcl-technologies-limited-bengaluru-bangalore-5-to-10-years-190121001223?src=jobsearchDesk&sid=16119257559152031&xp=2&px=1',\n",
       " 'https://www.naukri.com/job-listings-data-scientist-machine-learning-blue-yonder-india-private-limited-bengaluru-bangalore-4-to-8-years-270121903312?src=jobsearchDesk&sid=16119257559152031&xp=3&px=1',\n",
       " 'https://www.naukri.com/job-listings-data-scientist-machine-learning-augmatrixgo-bengaluru-bangalore-2-to-5-years-140121905423?src=jobsearchDesk&sid=16119257559152031&xp=4&px=1',\n",
       " 'https://www.naukri.com/job-listings-software-developer-data-scientist-nlp-machine-learning-cunesoft-india-private-limited-bengaluru-bangalore-3-to-6-years-190121001281?src=jobsearchDesk&sid=16119257559152031&xp=5&px=1',\n",
       " 'https://www.naukri.com/job-listings-principal-data-scientist-machine-deep-learning-nlp-tensorflow-fidius-advisory-bengaluru-bangalore-8-to-13-years-070720900498?src=jobsearchDesk&sid=16119257559152031&xp=6&px=1',\n",
       " 'https://www.naukri.com/job-listings-data-scientist-machine-learning-remote-working-doji-ltd-delhi-ncr-bengaluru-bangalore-anywhere-in-india-2-to-5-years-171220006270?src=jobsearchDesk&sid=16119257559152031&xp=7&px=1',\n",
       " 'https://www.naukri.com/job-listings-data-scientist-mailkit-private-limited-chennai-bhubaneshwar-pune-delhi-ncr-mumbai-bengaluru-bangalore-greater-noida-hyderabad-secunderabad-kolkata-4-to-9-years-280121007389?src=jobsearchDesk&sid=16119257559152031&xp=8&px=1',\n",
       " 'https://www.naukri.com/job-listings-lead-data-scientist-complete-remote-work-techolution-india-private-limited-chennai-pune-delhi-ncr-mumbai-bengaluru-bangalore-hyderabad-secunderabad-9-to-14-years-270121006193?src=jobsearchDesk&sid=16119257559152031&xp=9&px=1',\n",
       " 'https://www.naukri.com/job-listings-data-scientist-ibm-india-pvt-limited-bengaluru-bangalore-6-to-8-years-290121901186?src=jobsearchDesk&sid=16119257559152031&xp=10&px=1',\n",
       " 'https://www.naukri.com/job-listings-data-scientist-healthcare-pharma-domain-preferred-genpact-india-private-limited-bengaluru-bangalore-6-to-10-years-070121010487?src=jobsearchDesk&sid=16119257559152031&xp=11&px=1',\n",
       " 'https://www.naukri.com/job-listings-data-scientist-24-7-customer-private-ltd-bengaluru-bangalore-2-to-4-years-200121501017?src=jobsearchDesk&sid=16119257559152031&xp=12&px=1',\n",
       " 'https://www.naukri.com/job-listings-data-scientist-capgemini-technology-services-india-limited-bengaluru-bangalore-6-to-9-years-280121905505?src=jobsearchDesk&sid=16119257559152031&xp=13&px=1',\n",
       " 'https://www.naukri.com/job-listings-tech-mahindra-hiring-for-data-scientist-bangalore-tech-mahindra-ltd-bengaluru-bangalore-4-to-9-years-250121000733?src=jobsearchDesk&sid=16119257559152031&xp=14&px=1',\n",
       " 'https://www.naukri.com/job-listings-senior-data-scientist-upgrad-education-pvt-ltd-mumbai-bengaluru-bangalore-4-to-6-years-091020003439?src=jobsearchDesk&sid=16119257559152031&xp=15&px=1',\n",
       " 'https://www.naukri.com/job-listings-lead-data-scientist-leading-data-science-firm-chennai-mumbai-bengaluru-bangalore-hyderabad-secunderabad-7-to-12-years-011020003194?src=jobsearchDesk&sid=16119257559152031&xp=16&px=1',\n",
       " 'https://www.naukri.com/job-listings-principal-data-scientist-yodlee-infotech-private-limited-bengaluru-bangalore-7-to-12-years-280121006434?src=jobsearchDesk&sid=16119257559152031&xp=17&px=1',\n",
       " 'https://www.naukri.com/job-listings-data-scientist-applied-materials-india-private-limited-bengaluru-bangalore-4-to-7-years-150121902910?src=jobsearchDesk&sid=16119257559152031&xp=18&px=1',\n",
       " 'https://www.naukri.com/job-listings-lead-data-scientist-bangalore-banking-financial-domain-is-must-societe-generale-global-solution-centre-pvt-ltd-bengaluru-bangalore-5-to-10-years-250121002632?src=jobsearchDesk&sid=16119257559152031&xp=19&px=1',\n",
       " 'https://www.naukri.com/job-listings-data-scientist-machine-learning-ai-mastermind-network-delhi-ncr-mumbai-bengaluru-bangalore-5-to-10-years-200121001229?src=jobsearchDesk&sid=16119257559152031&xp=20&px=1']"
      ]
     },
     "execution_count": 11,
     "metadata": {},
     "output_type": "execute_result"
    }
   ],
   "source": [
    "#creating Empty list\n",
    "driver.get(\"https://www.naukri.com/data-scientist-jobs-in-bangalore?k=data%20scientist&l=bangalore\")\n",
    "URl=[]\n",
    "Job_titel=[]\n",
    "Job_loc=[]\n",
    "Company=[]\n",
    "Description=[]\n",
    "#getting the herf attribute for each page \n",
    "for i in list(driver.find_elements_by_xpath(\"//a[@class='title fw500 ellipsis']\")):\n",
    "    URl.append(i.get_attribute('href'))\n",
    "URl"
   ]
  },
  {
   "cell_type": "code",
   "execution_count": 12,
   "metadata": {},
   "outputs": [],
   "source": [
    "for i in URl:\n",
    "    driver.get(i)\n",
    "    for i in list(driver.find_elements_by_xpath(\"// h1[@class='jd-header-title']\")):\n",
    "        Job_titel.append(i.text)\n",
    "\n",
    "    for i in list(driver.find_elements_by_xpath(\"//span[@class='location ']\")):\n",
    "        Job_loc.append(i.text)\n",
    "\n",
    "    for i in list(driver.find_elements_by_xpath(\"//a[@class='pad-rt-8']\")):\n",
    "        Company.append(i.text)\n",
    "        \n",
    "    for i in list(driver.find_elements_by_xpath(\"//div[@class='dang-inner-html']\")):\n",
    "        Description.append(i.text)"
   ]
  },
  {
   "cell_type": "code",
   "execution_count": 13,
   "metadata": {},
   "outputs": [
    {
     "data": {
      "text/html": [
       "<div>\n",
       "<style scoped>\n",
       "    .dataframe tbody tr th:only-of-type {\n",
       "        vertical-align: middle;\n",
       "    }\n",
       "\n",
       "    .dataframe tbody tr th {\n",
       "        vertical-align: top;\n",
       "    }\n",
       "\n",
       "    .dataframe thead th {\n",
       "        text-align: right;\n",
       "    }\n",
       "</style>\n",
       "<table border=\"1\" class=\"dataframe\">\n",
       "  <thead>\n",
       "    <tr style=\"text-align: right;\">\n",
       "      <th></th>\n",
       "      <th>JOB_TITEL</th>\n",
       "      <th>LOCATION</th>\n",
       "      <th>COMPANY_NAME</th>\n",
       "      <th>DESCRIPTION</th>\n",
       "    </tr>\n",
       "  </thead>\n",
       "  <tbody>\n",
       "    <tr>\n",
       "      <th>0</th>\n",
       "      <td>Data Scientist/Data Analyst-immediate</td>\n",
       "      <td>Chennai, Pune, Bengaluru, Hyderabad</td>\n",
       "      <td>CAIA-Center For Artificial Intelligence &amp; Adva...</td>\n",
       "      <td>Dear Candidate\\n\\nSchedule a Telephonic Interv...</td>\n",
       "    </tr>\n",
       "    <tr>\n",
       "      <th>1</th>\n",
       "      <td>HCL hiring Data scientist with exp in machine ...</td>\n",
       "      <td>Bengaluru</td>\n",
       "      <td></td>\n",
       "      <td>Dear Candidate,\\n\\nGreetings from HCL!!!\\nWe a...</td>\n",
       "    </tr>\n",
       "    <tr>\n",
       "      <th>2</th>\n",
       "      <td>Data Scientist - Machine Learning</td>\n",
       "      <td>Bengaluru</td>\n",
       "      <td>HCL Technologies Limited</td>\n",
       "      <td>Roles and Responsibilities\\n\\n\\n- Selecting fe...</td>\n",
       "    </tr>\n",
       "    <tr>\n",
       "      <th>3</th>\n",
       "      <td>Software Developer - Data Scientist / NLP / Ma...</td>\n",
       "      <td>Bengaluru / Bangalore</td>\n",
       "      <td></td>\n",
       "      <td>Roles and Responsibilities\\nWe are looking for...</td>\n",
       "    </tr>\n",
       "    <tr>\n",
       "      <th>4</th>\n",
       "      <td>Data Scientist - Machine Learning - Remote Wor...</td>\n",
       "      <td>Delhi NCR, Bengaluru, Anywhere in India</td>\n",
       "      <td>AugmatrixGo</td>\n",
       "      <td>Please note that this role will be Remote / Ho...</td>\n",
       "    </tr>\n",
       "    <tr>\n",
       "      <th>5</th>\n",
       "      <td>Data Scientist</td>\n",
       "      <td>Chennai, Bhubaneshwar, Pune, Delhi NCR, Mumbai...</td>\n",
       "      <td></td>\n",
       "      <td>Mailkit is an European Marketing Automation co...</td>\n",
       "    </tr>\n",
       "    <tr>\n",
       "      <th>6</th>\n",
       "      <td>Lead Data Scientist - Complete Remote Work</td>\n",
       "      <td>Chennai, Pune, Delhi NCR, Mumbai, Bengaluru, H...</td>\n",
       "      <td>Cunesoft India Private Limited</td>\n",
       "      <td>We are looking for qualified Lead Data Scienti...</td>\n",
       "    </tr>\n",
       "    <tr>\n",
       "      <th>7</th>\n",
       "      <td>Data Scientist</td>\n",
       "      <td>Bengaluru</td>\n",
       "      <td></td>\n",
       "      <td>Introduction\\nThe Data Scientist actively part...</td>\n",
       "    </tr>\n",
       "    <tr>\n",
       "      <th>8</th>\n",
       "      <td>Data Scientist</td>\n",
       "      <td>Bengaluru</td>\n",
       "      <td>Doji Ltd</td>\n",
       "      <td>As a data scientist, you d be working towards ...</td>\n",
       "    </tr>\n",
       "    <tr>\n",
       "      <th>9</th>\n",
       "      <td>Tech Mahindra hiring For Data Scientist- Banga...</td>\n",
       "      <td>Bengaluru</td>\n",
       "      <td></td>\n",
       "      <td>Tech Mahindra hiring For Data Scientist- Banga...</td>\n",
       "    </tr>\n",
       "  </tbody>\n",
       "</table>\n",
       "</div>"
      ],
      "text/plain": [
       "                                           JOB_TITEL  \\\n",
       "0              Data Scientist/Data Analyst-immediate   \n",
       "1  HCL hiring Data scientist with exp in machine ...   \n",
       "2                  Data Scientist - Machine Learning   \n",
       "3  Software Developer - Data Scientist / NLP / Ma...   \n",
       "4  Data Scientist - Machine Learning - Remote Wor...   \n",
       "5                                     Data Scientist   \n",
       "6         Lead Data Scientist - Complete Remote Work   \n",
       "7                                     Data Scientist   \n",
       "8                                     Data Scientist   \n",
       "9  Tech Mahindra hiring For Data Scientist- Banga...   \n",
       "\n",
       "                                            LOCATION  \\\n",
       "0                Chennai, Pune, Bengaluru, Hyderabad   \n",
       "1                                          Bengaluru   \n",
       "2                                          Bengaluru   \n",
       "3                              Bengaluru / Bangalore   \n",
       "4            Delhi NCR, Bengaluru, Anywhere in India   \n",
       "5  Chennai, Bhubaneshwar, Pune, Delhi NCR, Mumbai...   \n",
       "6  Chennai, Pune, Delhi NCR, Mumbai, Bengaluru, H...   \n",
       "7                                          Bengaluru   \n",
       "8                                          Bengaluru   \n",
       "9                                          Bengaluru   \n",
       "\n",
       "                                        COMPANY_NAME  \\\n",
       "0  CAIA-Center For Artificial Intelligence & Adva...   \n",
       "1                                                      \n",
       "2                           HCL Technologies Limited   \n",
       "3                                                      \n",
       "4                                        AugmatrixGo   \n",
       "5                                                      \n",
       "6                     Cunesoft India Private Limited   \n",
       "7                                                      \n",
       "8                                           Doji Ltd   \n",
       "9                                                      \n",
       "\n",
       "                                         DESCRIPTION  \n",
       "0  Dear Candidate\\n\\nSchedule a Telephonic Interv...  \n",
       "1  Dear Candidate,\\n\\nGreetings from HCL!!!\\nWe a...  \n",
       "2  Roles and Responsibilities\\n\\n\\n- Selecting fe...  \n",
       "3  Roles and Responsibilities\\nWe are looking for...  \n",
       "4  Please note that this role will be Remote / Ho...  \n",
       "5  Mailkit is an European Marketing Automation co...  \n",
       "6  We are looking for qualified Lead Data Scienti...  \n",
       "7  Introduction\\nThe Data Scientist actively part...  \n",
       "8  As a data scientist, you d be working towards ...  \n",
       "9  Tech Mahindra hiring For Data Scientist- Banga...  "
      ]
     },
     "execution_count": 13,
     "metadata": {},
     "output_type": "execute_result"
    }
   ],
   "source": [
    "df=pd.DataFrame({\"JOB_TITEL\":Job_titel[:10],\"LOCATION\":Job_loc[:10],\n",
    "                \"COMPANY_NAME\":Company[:10],\"DESCRIPTION\":Description[:10]})\n",
    "df"
   ]
  },
  {
   "cell_type": "code",
   "execution_count": 14,
   "metadata": {},
   "outputs": [],
   "source": [
    "df.to_csv(\"DATASCINTIST_BLR.csv\",index=False)"
   ]
  },
  {
   "cell_type": "markdown",
   "metadata": {},
   "source": [
    "# Q3 scrape data for “Data Scientist” designation for first 10 job results You have to scrape the job-title, job-location, company_name, experience_required"
   ]
  },
  {
   "cell_type": "code",
   "execution_count": 15,
   "metadata": {},
   "outputs": [],
   "source": [
    "driver.get(\"https://www.naukri.com/data-scientist-jobs?k=data%20scientist&cityType=25.9.31&ctcFilter=3to6\")\n",
    "g=[]\n",
    "job_titel=[]\n",
    "company_name=[]\n",
    "job_location=[]\n",
    "exp=[]\n",
    "d=driver.find_elements_by_xpath(\"//a[@class='title fw500 ellipsis']\")\n",
    "for i in d:\n",
    "    g.append(i.get_attribute('href'))\n",
    "for i in g:\n",
    "    driver.get(i)\n",
    "    for i in list(driver.find_elements_by_xpath(\"//h1[@class='jd-header-title']\")):\n",
    "        job_titel.append(i.text)\n",
    "    for i in list(driver.find_elements_by_xpath(\"//span[@class='location ']\")):\n",
    "        job_location.append(i.text)\n",
    "    for i in list(driver.find_elements_by_xpath(\"//div[@class='exp']/span\")):\n",
    "        exp.append(i.text)\n",
    "    for i in list(driver.find_elements_by_xpath(\"//a[@class='pad-rt-8']\")):\n",
    "        company_name.append(i.text)\n",
    "        \n",
    "    \n",
    "    time.sleep(5)"
   ]
  },
  {
   "cell_type": "code",
   "execution_count": 16,
   "metadata": {},
   "outputs": [
    {
     "name": "stdout",
     "output_type": "stream",
     "text": [
      "0 0 0 0\n"
     ]
    }
   ],
   "source": [
    "print(len(job_titel),len(job_location),len(exp),len(company_name))"
   ]
  },
  {
   "cell_type": "code",
   "execution_count": 17,
   "metadata": {},
   "outputs": [
    {
     "data": {
      "text/html": [
       "<div>\n",
       "<style scoped>\n",
       "    .dataframe tbody tr th:only-of-type {\n",
       "        vertical-align: middle;\n",
       "    }\n",
       "\n",
       "    .dataframe tbody tr th {\n",
       "        vertical-align: top;\n",
       "    }\n",
       "\n",
       "    .dataframe thead th {\n",
       "        text-align: right;\n",
       "    }\n",
       "</style>\n",
       "<table border=\"1\" class=\"dataframe\">\n",
       "  <thead>\n",
       "    <tr style=\"text-align: right;\">\n",
       "      <th></th>\n",
       "      <th>JOB_TITEL</th>\n",
       "      <th>Company_Name</th>\n",
       "      <th>LOCATION</th>\n",
       "      <th>EXPERIENCE</th>\n",
       "    </tr>\n",
       "  </thead>\n",
       "  <tbody>\n",
       "  </tbody>\n",
       "</table>\n",
       "</div>"
      ],
      "text/plain": [
       "Empty DataFrame\n",
       "Columns: [JOB_TITEL, Company_Name, LOCATION, EXPERIENCE]\n",
       "Index: []"
      ]
     },
     "execution_count": 17,
     "metadata": {},
     "output_type": "execute_result"
    }
   ],
   "source": [
    "Cmpny=company_name[::2]\n",
    "Cmpny\n",
    "Df=pd.DataFrame({\"JOB_TITEL\":job_titel[:10],\"Company_Name\":Cmpny[:10],\"LOCATION\":job_location[:10],\"EXPERIENCE\":exp[:10]})\n",
    "Df.head()"
   ]
  },
  {
   "cell_type": "code",
   "execution_count": 18,
   "metadata": {},
   "outputs": [],
   "source": [
    "Df.to_csv(\"Data_science_job_Delhi.csv\",index=False)"
   ]
  },
  {
   "cell_type": "markdown",
   "metadata": {},
   "source": [
    "# Q4: Write a python program to scrape data for first 10 job results for Data scientist Designation in Noida location. You have to scrape company_name, No. of days ago when job was posted, Rating of the company(https://www.glassdoor.co.in/index.htm)"
   ]
  },
  {
   "cell_type": "code",
   "execution_count": 19,
   "metadata": {},
   "outputs": [],
   "source": [
    "#creating Empy list\n",
    "cmpny_name=[]\n",
    "cmpny_rating=[]\n",
    "no_of_days_post=[]\n",
    "#Getting the url\n",
    "driver.get(\"https://www.glassdoor.co.in/Job/noida-data-scientist-jobs-SRCH_IL.0,5_IC4477468_KO6,20.htm\")\n",
    "for i in list(driver.find_elements_by_xpath(\"//a[@class=' css-l2wjgv e1n63ojh0 jobLink']\")):\n",
    "    cmpny_name.append(i.text)#adding the company name in empty list\n",
    "for i in list(driver.find_elements_by_xpath(\"//span[@class='css-19pjha7 e1cjmv6j1']\")):\n",
    "    cmpny_rating.append(i.text)#getting the company rating \n",
    "for i in list(driver.find_elements_by_xpath(\"//div[@class='d-flex align-items-end pl-std css-mi55ob']\")):\n",
    "    no_of_days_post.append(i.text)#Getting the text of no of days applied  from the web and adding in empty list"
   ]
  },
  {
   "cell_type": "code",
   "execution_count": 20,
   "metadata": {},
   "outputs": [
    {
     "data": {
      "text/html": [
       "<div>\n",
       "<style scoped>\n",
       "    .dataframe tbody tr th:only-of-type {\n",
       "        vertical-align: middle;\n",
       "    }\n",
       "\n",
       "    .dataframe tbody tr th {\n",
       "        vertical-align: top;\n",
       "    }\n",
       "\n",
       "    .dataframe thead th {\n",
       "        text-align: right;\n",
       "    }\n",
       "</style>\n",
       "<table border=\"1\" class=\"dataframe\">\n",
       "  <thead>\n",
       "    <tr style=\"text-align: right;\">\n",
       "      <th></th>\n",
       "      <th>COMPANY_NAME</th>\n",
       "      <th>COMPANY_RATING</th>\n",
       "      <th>NO_OF_DAYS_POST</th>\n",
       "    </tr>\n",
       "  </thead>\n",
       "  <tbody>\n",
       "    <tr>\n",
       "      <th>0</th>\n",
       "      <td>Genpact</td>\n",
       "      <td>3.8</td>\n",
       "      <td>13d</td>\n",
       "    </tr>\n",
       "    <tr>\n",
       "      <th>1</th>\n",
       "      <td>BlackRock</td>\n",
       "      <td>4.1</td>\n",
       "      <td>23d</td>\n",
       "    </tr>\n",
       "    <tr>\n",
       "      <th>2</th>\n",
       "      <td>Builder.ai - What would you Build?</td>\n",
       "      <td>3.7</td>\n",
       "      <td>2d</td>\n",
       "    </tr>\n",
       "    <tr>\n",
       "      <th>3</th>\n",
       "      <td>Brickred</td>\n",
       "      <td>3.7</td>\n",
       "      <td>6d</td>\n",
       "    </tr>\n",
       "    <tr>\n",
       "      <th>4</th>\n",
       "      <td>BlackRock</td>\n",
       "      <td>4.1</td>\n",
       "      <td>3d</td>\n",
       "    </tr>\n",
       "  </tbody>\n",
       "</table>\n",
       "</div>"
      ],
      "text/plain": [
       "                         COMPANY_NAME COMPANY_RATING NO_OF_DAYS_POST\n",
       "0                             Genpact            3.8             13d\n",
       "1                           BlackRock            4.1             23d\n",
       "2  Builder.ai - What would you Build?            3.7              2d\n",
       "3                            Brickred            3.7              6d\n",
       "4                           BlackRock            4.1              3d"
      ]
     },
     "execution_count": 20,
     "metadata": {},
     "output_type": "execute_result"
    }
   ],
   "source": [
    "#getting all the scrappped data in dataframe\n",
    "Df1=pd.DataFrame({\"COMPANY_NAME\":cmpny_name[:10],\"COMPANY_RATING\":cmpny_rating[:10],\n",
    "                 \"NO_OF_DAYS_POST\":no_of_days_post[:10]})\n",
    "Df1.head()"
   ]
  },
  {
   "cell_type": "code",
   "execution_count": 21,
   "metadata": {},
   "outputs": [],
   "source": [
    "Df1.to_csv(\"Dtascience_Glass_door.csv\",index=False)"
   ]
  },
  {
   "cell_type": "markdown",
   "metadata": {},
   "source": [
    "# Q5: Write a python program to scrape the salary data for Data Scientist designation in Noida location You have to scrape Company name, Number of salaries, Average salary, Min salary, Max Salary."
   ]
  },
  {
   "cell_type": "code",
   "execution_count": 22,
   "metadata": {},
   "outputs": [],
   "source": [
    "#getting the url\n",
    "driver.get(\"https://www.glassdoor.co.in/Salaries/new-delhi-data-scientist-salary-SRCH_IL.0,9_IM1083_KO10,24.htm?clickSource=searchBtn\")\n",
    "#creating Empty list\n",
    "company_name=[]\n",
    "no_of_salary=[]\n",
    "avg_salary=[]\n",
    "min_salary=[]\n",
    "max_salary=[]"
   ]
  },
  {
   "cell_type": "code",
   "execution_count": 23,
   "metadata": {},
   "outputs": [],
   "source": [
    "for i in list(driver.find_elements_by_xpath(\"//p[@class='m-0 ']\")):\n",
    "    company_name.append(i.text)\n",
    "for i in list(driver.find_elements_by_xpath(\"//p[@class='css-1uyte9r css-1kuy7z7 m-0 ']\")):\n",
    "    no_of_salary.append(i.text)\n",
    "for i in list(driver.find_elements_by_xpath(\"//div[@class='col-2 d-none d-md-flex flex-row justify-content-end']/strong\")):\n",
    "    avg_salary.append(i.text)\n",
    "for i in list(driver.find_elements_by_xpath(\"//div[@class='common__RangeBarStyle__values common__flex__justifySpaceBetween common__flex__container ']/span[1]\")):\n",
    "    min_salary.append(i.text)\n",
    "for i in list(driver.find_elements_by_xpath(\"//div[@class='common__RangeBarStyle__values common__flex__justifySpaceBetween common__flex__container ']/span[2]\")):\n",
    "    max_salary.append(i.text)"
   ]
  },
  {
   "cell_type": "code",
   "execution_count": 24,
   "metadata": {},
   "outputs": [
    {
     "name": "stdout",
     "output_type": "stream",
     "text": [
      "20 20 20 20 20\n"
     ]
    }
   ],
   "source": [
    "print(len(company_name),len(no_of_salary),len(avg_salary),len(min_salary),len(max_salary))"
   ]
  },
  {
   "cell_type": "code",
   "execution_count": 25,
   "metadata": {},
   "outputs": [],
   "source": [
    "#putting into Dataframe\n",
    "Df2=pd.DataFrame({\"COMPANY_NAME\":company_name[:10],\"NO_OF_SALARY\":no_of_salary[:10],\n",
    "                 \"AVERAGE_SALARY\":avg_salary[:10],\"MIN_SALARY\":min_salary[:10],\n",
    "                 \"MAX_SALARY\":max_salary[:10]})"
   ]
  },
  {
   "cell_type": "code",
   "execution_count": 26,
   "metadata": {},
   "outputs": [
    {
     "data": {
      "text/html": [
       "<div>\n",
       "<style scoped>\n",
       "    .dataframe tbody tr th:only-of-type {\n",
       "        vertical-align: middle;\n",
       "    }\n",
       "\n",
       "    .dataframe tbody tr th {\n",
       "        vertical-align: top;\n",
       "    }\n",
       "\n",
       "    .dataframe thead th {\n",
       "        text-align: right;\n",
       "    }\n",
       "</style>\n",
       "<table border=\"1\" class=\"dataframe\">\n",
       "  <thead>\n",
       "    <tr style=\"text-align: right;\">\n",
       "      <th></th>\n",
       "      <th>COMPANY_NAME</th>\n",
       "      <th>NO_OF_SALARY</th>\n",
       "      <th>AVERAGE_SALARY</th>\n",
       "      <th>MIN_SALARY</th>\n",
       "      <th>MAX_SALARY</th>\n",
       "    </tr>\n",
       "  </thead>\n",
       "  <tbody>\n",
       "    <tr>\n",
       "      <th>0</th>\n",
       "      <td>Delhivery</td>\n",
       "      <td>13 salaries</td>\n",
       "      <td>₹ 12,81,419</td>\n",
       "      <td>₹456K</td>\n",
       "      <td>₹11,789K</td>\n",
       "    </tr>\n",
       "    <tr>\n",
       "      <th>1</th>\n",
       "      <td>Ericsson-Worldwide</td>\n",
       "      <td>11 salaries</td>\n",
       "      <td>₹ 7,52,052</td>\n",
       "      <td>₹420K</td>\n",
       "      <td>₹1,636K</td>\n",
       "    </tr>\n",
       "    <tr>\n",
       "      <th>2</th>\n",
       "      <td>Accenture</td>\n",
       "      <td>10 salaries</td>\n",
       "      <td>₹ 9,98,925</td>\n",
       "      <td>₹585K</td>\n",
       "      <td>₹2,200K</td>\n",
       "    </tr>\n",
       "    <tr>\n",
       "      <th>3</th>\n",
       "      <td>Tata Consultancy Services</td>\n",
       "      <td>9 salaries</td>\n",
       "      <td>₹ 6,02,000</td>\n",
       "      <td>₹336K</td>\n",
       "      <td>₹1,024K</td>\n",
       "    </tr>\n",
       "    <tr>\n",
       "      <th>4</th>\n",
       "      <td>IBM</td>\n",
       "      <td>9 salaries</td>\n",
       "      <td>₹ 7,71,657</td>\n",
       "      <td>₹595K</td>\n",
       "      <td>₹2,769K</td>\n",
       "    </tr>\n",
       "    <tr>\n",
       "      <th>5</th>\n",
       "      <td>UnitedHealth Group</td>\n",
       "      <td>9 salaries</td>\n",
       "      <td>₹ 13,55,346</td>\n",
       "      <td>₹727K</td>\n",
       "      <td>₹1,597K</td>\n",
       "    </tr>\n",
       "    <tr>\n",
       "      <th>6</th>\n",
       "      <td>Valiance Solutions</td>\n",
       "      <td>8 salaries</td>\n",
       "      <td>₹ 7,91,015</td>\n",
       "      <td>₹509K</td>\n",
       "      <td>₹1,168K</td>\n",
       "    </tr>\n",
       "    <tr>\n",
       "      <th>7</th>\n",
       "      <td>Innovaccer</td>\n",
       "      <td>7 salaries</td>\n",
       "      <td>₹ 12,15,138</td>\n",
       "      <td>₹629K</td>\n",
       "      <td>₹1,719K</td>\n",
       "    </tr>\n",
       "    <tr>\n",
       "      <th>8</th>\n",
       "      <td>Cognizant Technology Solutions</td>\n",
       "      <td>6 salaries</td>\n",
       "      <td>₹ 10,21,889</td>\n",
       "      <td>₹804K</td>\n",
       "      <td>₹1,281K</td>\n",
       "    </tr>\n",
       "    <tr>\n",
       "      <th>9</th>\n",
       "      <td>ZS Associates</td>\n",
       "      <td>5 salaries</td>\n",
       "      <td>₹ 10,00,000</td>\n",
       "      <td>₹205K</td>\n",
       "      <td>₹1,835K</td>\n",
       "    </tr>\n",
       "  </tbody>\n",
       "</table>\n",
       "</div>"
      ],
      "text/plain": [
       "                     COMPANY_NAME NO_OF_SALARY AVERAGE_SALARY MIN_SALARY  \\\n",
       "0                       Delhivery  13 salaries    ₹ 12,81,419      ₹456K   \n",
       "1              Ericsson-Worldwide  11 salaries     ₹ 7,52,052      ₹420K   \n",
       "2                       Accenture  10 salaries     ₹ 9,98,925      ₹585K   \n",
       "3       Tata Consultancy Services   9 salaries     ₹ 6,02,000      ₹336K   \n",
       "4                             IBM   9 salaries     ₹ 7,71,657      ₹595K   \n",
       "5              UnitedHealth Group   9 salaries    ₹ 13,55,346      ₹727K   \n",
       "6              Valiance Solutions   8 salaries     ₹ 7,91,015      ₹509K   \n",
       "7                      Innovaccer   7 salaries    ₹ 12,15,138      ₹629K   \n",
       "8  Cognizant Technology Solutions   6 salaries    ₹ 10,21,889      ₹804K   \n",
       "9                   ZS Associates   5 salaries    ₹ 10,00,000      ₹205K   \n",
       "\n",
       "  MAX_SALARY  \n",
       "0   ₹11,789K  \n",
       "1    ₹1,636K  \n",
       "2    ₹2,200K  \n",
       "3    ₹1,024K  \n",
       "4    ₹2,769K  \n",
       "5    ₹1,597K  \n",
       "6    ₹1,168K  \n",
       "7    ₹1,719K  \n",
       "8    ₹1,281K  \n",
       "9    ₹1,835K  "
      ]
     },
     "execution_count": 26,
     "metadata": {},
     "output_type": "execute_result"
    }
   ],
   "source": [
    "Df2"
   ]
  },
  {
   "cell_type": "code",
   "execution_count": 27,
   "metadata": {},
   "outputs": [],
   "source": [
    "#DataFrame to csv\n",
    "Df2.to_csv(\"Salary_of_DataScientist.csv\",index=False)"
   ]
  },
  {
   "cell_type": "markdown",
   "metadata": {},
   "source": [
    "# Scrape data of first 100 sunglasses listings on flipkart.com. You have to scrape four attributes:\n",
    "1. Brand\n",
    "2. Product Description\n",
    "3. Price\n",
    "4. Discount %\n"
   ]
  },
  {
   "cell_type": "code",
   "execution_count": 28,
   "metadata": {},
   "outputs": [],
   "source": [
    "#getting the url\n",
    "driver.get(\"https://www.flipkart.com/search?q=sunglasses&otracker=search&otracker1=search&marketplace=FLIPKART&as-show=on&as=off\")"
   ]
  },
  {
   "cell_type": "code",
   "execution_count": 29,
   "metadata": {},
   "outputs": [],
   "source": [
    "#creating Empty list\n",
    "brand=[]\n",
    "description=[]\n",
    "price=[]\n",
    "discount=[]"
   ]
  },
  {
   "cell_type": "code",
   "execution_count": 30,
   "metadata": {},
   "outputs": [],
   "source": [
    "#scrapping data \n",
    "#creating a loop for multi pages\n",
    "for i in range(0,4):\n",
    "    for i in list(driver.find_elements_by_xpath(\"//div[@class='_2WkVRV']\")):\n",
    "        brand.append(i.text)\n",
    "    for i in list(driver.find_elements_by_xpath(\"//a[@class='IRpwTa']\")):\n",
    "        description.append(i.text)\n",
    "    for i in list(driver.find_elements_by_xpath(\"//div[@class='_30jeq3']\")):\n",
    "        price.append(i.text)\n",
    "    for i in list(driver.find_elements_by_xpath(\"//div[@class='_3Ay6Sb']\")):\n",
    "        discount.append(i.text)\n",
    "    driver.find_element_by_xpath(\"//a[@class='_1LKTO3']\").click()\n",
    "    time.sleep(6)"
   ]
  },
  {
   "cell_type": "code",
   "execution_count": 31,
   "metadata": {},
   "outputs": [
    {
     "data": {
      "text/html": [
       "<div>\n",
       "<style scoped>\n",
       "    .dataframe tbody tr th:only-of-type {\n",
       "        vertical-align: middle;\n",
       "    }\n",
       "\n",
       "    .dataframe tbody tr th {\n",
       "        vertical-align: top;\n",
       "    }\n",
       "\n",
       "    .dataframe thead th {\n",
       "        text-align: right;\n",
       "    }\n",
       "</style>\n",
       "<table border=\"1\" class=\"dataframe\">\n",
       "  <thead>\n",
       "    <tr style=\"text-align: right;\">\n",
       "      <th></th>\n",
       "      <th>Brand</th>\n",
       "      <th>DESCRIPTION</th>\n",
       "      <th>PRICE</th>\n",
       "      <th>DISCOUNT</th>\n",
       "    </tr>\n",
       "  </thead>\n",
       "  <tbody>\n",
       "    <tr>\n",
       "      <th>0</th>\n",
       "      <td>ROYAL SON</td>\n",
       "      <td>UV Protection Retro Square Sunglasses (88)</td>\n",
       "      <td>₹599</td>\n",
       "      <td>70% off</td>\n",
       "    </tr>\n",
       "    <tr>\n",
       "      <th>1</th>\n",
       "      <td>Royal Son</td>\n",
       "      <td>Polarized, UV Protection Round Sunglasses (49)</td>\n",
       "      <td>₹664</td>\n",
       "      <td>66% off</td>\n",
       "    </tr>\n",
       "    <tr>\n",
       "      <th>2</th>\n",
       "      <td>like future</td>\n",
       "      <td>Mirrored Aviator Sunglasses (Free Size)</td>\n",
       "      <td>₹181</td>\n",
       "      <td>83% off</td>\n",
       "    </tr>\n",
       "    <tr>\n",
       "      <th>3</th>\n",
       "      <td>shah collections</td>\n",
       "      <td>UV Protection Round Sunglasses (Free Size)</td>\n",
       "      <td>₹349</td>\n",
       "      <td>79% off</td>\n",
       "    </tr>\n",
       "    <tr>\n",
       "      <th>4</th>\n",
       "      <td>Fastrack</td>\n",
       "      <td>Gradient, UV Protection Wayfarer Sunglasses (F...</td>\n",
       "      <td>₹699</td>\n",
       "      <td>12% off</td>\n",
       "    </tr>\n",
       "  </tbody>\n",
       "</table>\n",
       "</div>"
      ],
      "text/plain": [
       "              Brand                                        DESCRIPTION PRICE  \\\n",
       "0         ROYAL SON         UV Protection Retro Square Sunglasses (88)  ₹599   \n",
       "1         Royal Son     Polarized, UV Protection Round Sunglasses (49)  ₹664   \n",
       "2       like future            Mirrored Aviator Sunglasses (Free Size)  ₹181   \n",
       "3  shah collections         UV Protection Round Sunglasses (Free Size)  ₹349   \n",
       "4          Fastrack  Gradient, UV Protection Wayfarer Sunglasses (F...  ₹699   \n",
       "\n",
       "  DISCOUNT  \n",
       "0  70% off  \n",
       "1  66% off  \n",
       "2  83% off  \n",
       "3  79% off  \n",
       "4  12% off  "
      ]
     },
     "execution_count": 31,
     "metadata": {},
     "output_type": "execute_result"
    }
   ],
   "source": [
    "#putting the list in Dataframe\n",
    "flipkart=pd.DataFrame({\"Brand\":brand[:100],\"DESCRIPTION\":description[:100],\n",
    "                      \"PRICE\":price[:100],\"DISCOUNT\":discount[:100]})\n",
    "flipkart.head()"
   ]
  },
  {
   "cell_type": "code",
   "execution_count": 32,
   "metadata": {},
   "outputs": [],
   "source": [
    "#convert to csv file\n",
    "flipkart.to_csv(\"FLIPKART_SUNGLASS.cvs\",index=False)"
   ]
  },
  {
   "cell_type": "markdown",
   "metadata": {},
   "source": [
    "# Q7: Scrape 100 reviews data from flipkart.com for iphone11 phone. You have to go the link: https://www.flipkart.com/apple-iphone-11-black-64-gb-includes-earpods-power-adapter/p/itm0f37c2240b217?pid=MOBFKCTSVZAXUHGR&lid=LSTMOBFKCTSVZAXUHGREPBFGI&marketplace."
   ]
  },
  {
   "cell_type": "code",
   "execution_count": 33,
   "metadata": {},
   "outputs": [],
   "source": [
    "#creating Empty list\n",
    "Rating=[]\n",
    "Review_summary=[]\n",
    "Review=[]"
   ]
  },
  {
   "cell_type": "code",
   "execution_count": 34,
   "metadata": {},
   "outputs": [],
   "source": [
    "#getting the Attibute\n",
    "driver.get(\"https://www.flipkart.com/apple-iphone-11-black-64-gb-includes-earpods-power-adapter/p/itm0f37c2240b217?pid=MOBFKCTSVZAXUHGR&lid=LSTMOBFKCTSVZAXUHGREPBFGI&marketplace\")\n",
    "g=[]#creating empty list\n",
    "for i in list(driver.find_elements_by_xpath(\"//div[@class='col JOpGWq']/a\")):\n",
    "    g.append(i.get_attribute('href'))\n",
    "    "
   ]
  },
  {
   "cell_type": "code",
   "execution_count": 35,
   "metadata": {},
   "outputs": [
    {
     "name": "stdout",
     "output_type": "stream",
     "text": [
      "100 100 100\n"
     ]
    }
   ],
   "source": [
    "#getting data with for loop\n",
    "for i in g:\n",
    "    driver.get(i)\n",
    "    for i in range(0,10):\n",
    "        for i in list(driver.find_elements_by_xpath(\"//div[@class='_3LWZlK _1BLPMq']\")):\n",
    "            Rating.append(i.text)\n",
    "        for i in list(driver.find_elements_by_xpath(\"//p[@class='_2-N8zT']\")):\n",
    "            Review_summary.append(i.text)\n",
    "        for i in list(driver.find_elements_by_xpath(\"//div[@class='t-ZTKy']\")):\n",
    "            Review.append(i.text)\n",
    "    driver.find_element_by_xpath(\"//a[@class='_1LKTO3']\").click()#next page    \n",
    "    time.sleep(5)\n",
    "        \n",
    "print(len(Rating),len(Review_summary),len(Review))\n",
    "        "
   ]
  },
  {
   "cell_type": "code",
   "execution_count": 36,
   "metadata": {},
   "outputs": [
    {
     "data": {
      "text/html": [
       "<div>\n",
       "<style scoped>\n",
       "    .dataframe tbody tr th:only-of-type {\n",
       "        vertical-align: middle;\n",
       "    }\n",
       "\n",
       "    .dataframe tbody tr th {\n",
       "        vertical-align: top;\n",
       "    }\n",
       "\n",
       "    .dataframe thead th {\n",
       "        text-align: right;\n",
       "    }\n",
       "</style>\n",
       "<table border=\"1\" class=\"dataframe\">\n",
       "  <thead>\n",
       "    <tr style=\"text-align: right;\">\n",
       "      <th></th>\n",
       "      <th>Rating</th>\n",
       "      <th>Review_summary</th>\n",
       "      <th>Full_Reviews</th>\n",
       "    </tr>\n",
       "  </thead>\n",
       "  <tbody>\n",
       "    <tr>\n",
       "      <th>0</th>\n",
       "      <td>5</td>\n",
       "      <td>Perfect product!</td>\n",
       "      <td>Amazing phone with great cameras and better ba...</td>\n",
       "    </tr>\n",
       "    <tr>\n",
       "      <th>1</th>\n",
       "      <td>5</td>\n",
       "      <td>Great product</td>\n",
       "      <td>Amazing Powerful and Durable Gadget.\\n\\nI’m am...</td>\n",
       "    </tr>\n",
       "    <tr>\n",
       "      <th>2</th>\n",
       "      <td>5</td>\n",
       "      <td>Highly recommended</td>\n",
       "      <td>iphone 11 is a very good phone to buy only if ...</td>\n",
       "    </tr>\n",
       "    <tr>\n",
       "      <th>3</th>\n",
       "      <td>5</td>\n",
       "      <td>Perfect product!</td>\n",
       "      <td>It’s a must buy who is looking for an upgrade ...</td>\n",
       "    </tr>\n",
       "    <tr>\n",
       "      <th>4</th>\n",
       "      <td>5</td>\n",
       "      <td>Perfect product!</td>\n",
       "      <td>Value for money❤️❤️\\nIts awesome mobile phone ...</td>\n",
       "    </tr>\n",
       "  </tbody>\n",
       "</table>\n",
       "</div>"
      ],
      "text/plain": [
       "  Rating      Review_summary  \\\n",
       "0      5    Perfect product!   \n",
       "1      5       Great product   \n",
       "2      5  Highly recommended   \n",
       "3      5    Perfect product!   \n",
       "4      5    Perfect product!   \n",
       "\n",
       "                                        Full_Reviews  \n",
       "0  Amazing phone with great cameras and better ba...  \n",
       "1  Amazing Powerful and Durable Gadget.\\n\\nI’m am...  \n",
       "2  iphone 11 is a very good phone to buy only if ...  \n",
       "3  It’s a must buy who is looking for an upgrade ...  \n",
       "4  Value for money❤️❤️\\nIts awesome mobile phone ...  "
      ]
     },
     "execution_count": 36,
     "metadata": {},
     "output_type": "execute_result"
    }
   ],
   "source": [
    "#putting in a dataframe\n",
    "Iphone=pd.DataFrame({\"Rating\":Rating,\"Review_summary\":Review_summary,\"Full_Reviews\":Review})\n",
    "Iphone.head()"
   ]
  },
  {
   "cell_type": "code",
   "execution_count": 37,
   "metadata": {},
   "outputs": [],
   "source": [
    "#convert to csv\n",
    "Iphone.to_csv(\"Iphon_11_Reviews.csv\",index=False)"
   ]
  },
  {
   "cell_type": "markdown",
   "metadata": {},
   "source": [
    "# Q8: Scrape data for first 100 sneakers you find when you visit flipkart.com and search for “sneakers” in the search field.\n",
    "You have to scrape 4 attributes of each sneaker :\n",
    "1. Brand\n",
    "2. Product Description\n",
    "3. Price\n",
    "4. discount %"
   ]
  },
  {
   "cell_type": "code",
   "execution_count": 38,
   "metadata": {},
   "outputs": [],
   "source": [
    "#creating Empty list\n",
    "Brand=[]\n",
    "Description=[]\n",
    "price=[]\n",
    "discount=[]"
   ]
  },
  {
   "cell_type": "code",
   "execution_count": 39,
   "metadata": {},
   "outputs": [],
   "source": [
    "driver.get(\"https://www.flipkart.com/search?q=sneakers&otracker=search&otracker1=search&marketplace=FLIPKART&as-show=on&as=off\")"
   ]
  },
  {
   "cell_type": "code",
   "execution_count": 40,
   "metadata": {},
   "outputs": [],
   "source": [
    "for i in range(0,13):\n",
    "    try:\n",
    "        for i in list(driver.find_elements_by_xpath(\"//div[@class='_2WkVRV']\")):\n",
    "            Brand.append(i.text)\n",
    "    except:\n",
    "        Brand.append(\"NULL\")\n",
    "    try:\n",
    "        for i in list(driver.find_elements_by_xpath(\"//a[@class='IRpwTa _2-ICcC']\")):\n",
    "            Description.append(i.text)\n",
    "    except:\n",
    "        Description.append(\"NULL\")\n",
    "    try:\n",
    "        for i in list(driver.find_elements_by_xpath(\"//div[@class='_30jeq3']\")):\n",
    "            price.append(i.text)\n",
    "    except:\n",
    "        price.append(\"NULL\")\n",
    "    try:\n",
    "        for i in list(driver.find_elements_by_xpath((\"//div[@class='_3Ay6Sb']\"))):\n",
    "            discount.append(i.text)\n",
    "    except:\n",
    "        discount.append(\"NULL\")\n",
    "    driver.find_element_by_xpath(\"//a[@class='_1LKTO3']\").click()\n",
    "    time.sleep(5)"
   ]
  },
  {
   "cell_type": "code",
   "execution_count": 44,
   "metadata": {},
   "outputs": [
    {
     "data": {
      "text/html": [
       "<div>\n",
       "<style scoped>\n",
       "    .dataframe tbody tr th:only-of-type {\n",
       "        vertical-align: middle;\n",
       "    }\n",
       "\n",
       "    .dataframe tbody tr th {\n",
       "        vertical-align: top;\n",
       "    }\n",
       "\n",
       "    .dataframe thead th {\n",
       "        text-align: right;\n",
       "    }\n",
       "</style>\n",
       "<table border=\"1\" class=\"dataframe\">\n",
       "  <thead>\n",
       "    <tr style=\"text-align: right;\">\n",
       "      <th></th>\n",
       "      <th>Brand</th>\n",
       "      <th>Description</th>\n",
       "      <th>Price</th>\n",
       "      <th>Discount</th>\n",
       "    </tr>\n",
       "  </thead>\n",
       "  <tbody>\n",
       "    <tr>\n",
       "      <th>0</th>\n",
       "      <td>Fzzirok</td>\n",
       "      <td>Premium quality Sneakers For Men</td>\n",
       "      <td>₹420</td>\n",
       "      <td>57% off</td>\n",
       "    </tr>\n",
       "    <tr>\n",
       "      <th>1</th>\n",
       "      <td>Airland</td>\n",
       "      <td>Sneakers For Men</td>\n",
       "      <td>₹298</td>\n",
       "      <td>40% off</td>\n",
       "    </tr>\n",
       "    <tr>\n",
       "      <th>2</th>\n",
       "      <td>Chevit</td>\n",
       "      <td>Casual Sneakers Shoes For Men Sneakers For Men</td>\n",
       "      <td>₹499</td>\n",
       "      <td>75% off</td>\n",
       "    </tr>\n",
       "    <tr>\n",
       "      <th>3</th>\n",
       "      <td>World Wear Footwear</td>\n",
       "      <td>Classy Sneakers For Men</td>\n",
       "      <td>₹499</td>\n",
       "      <td>75% off</td>\n",
       "    </tr>\n",
       "    <tr>\n",
       "      <th>4</th>\n",
       "      <td>Robbie jones</td>\n",
       "      <td>Sneakers For Men</td>\n",
       "      <td>₹399</td>\n",
       "      <td>60% off</td>\n",
       "    </tr>\n",
       "  </tbody>\n",
       "</table>\n",
       "</div>"
      ],
      "text/plain": [
       "                 Brand                                     Description Price  \\\n",
       "0              Fzzirok                Premium quality Sneakers For Men  ₹420   \n",
       "1              Airland                                Sneakers For Men  ₹298   \n",
       "2               Chevit  Casual Sneakers Shoes For Men Sneakers For Men  ₹499   \n",
       "3  World Wear Footwear                         Classy Sneakers For Men  ₹499   \n",
       "4         Robbie jones                                Sneakers For Men  ₹399   \n",
       "\n",
       "  Discount  \n",
       "0  57% off  \n",
       "1  40% off  \n",
       "2  75% off  \n",
       "3  75% off  \n",
       "4  60% off  "
      ]
     },
     "execution_count": 44,
     "metadata": {},
     "output_type": "execute_result"
    }
   ],
   "source": [
    "#putting into dataFrame\n",
    "sneakers=pd.DataFrame({\"Brand\":Brand[:100],\"Description\":Description[:100],\n",
    "                      \"Price\":price[:100],\"Discount\":discount[:100]})\n",
    "sneakers.head()"
   ]
  },
  {
   "cell_type": "code",
   "execution_count": 45,
   "metadata": {},
   "outputs": [],
   "source": [
    "#convert to csv \n",
    "sneakers.to_csv(\"sneakers_100.csv\")"
   ]
  },
  {
   "cell_type": "markdown",
   "metadata": {},
   "source": [
    "# Q9: Go to the link - https://www.myntra.com/shoes Set Price filter to “Rs. 6649 to Rs. 13099” , Color filter to “Black”, And then scrape First 100 shoes data you get. The data should include “Brand” of the shoes , Short Shoe description, price of the shoe as shown in the below image.\n"
   ]
  },
  {
   "cell_type": "code",
   "execution_count": 48,
   "metadata": {},
   "outputs": [],
   "source": [
    "driver.get(\"https://www.myntra.com/shoes?f=Color%3ABlack_36454f&plaEnabled=false&rf=Price%3A5899.0_11599.0_5899.0%20TO%2011599.0\")"
   ]
  },
  {
   "cell_type": "code",
   "execution_count": 49,
   "metadata": {},
   "outputs": [],
   "source": [
    "#creating empty list\n",
    "Brand=[]\n",
    "Description=[]\n",
    "Price=[]"
   ]
  },
  {
   "cell_type": "code",
   "execution_count": 55,
   "metadata": {},
   "outputs": [],
   "source": [
    "for i in range(0,4):\n",
    "    for i in list(driver.find_elements_by_xpath(\"//div[@class='product-productMetaInfo']/h3\")):\n",
    "        Brand.append(i.text)\n",
    "    for i in list(driver.find_elements_by_xpath(\"//div[@class='product-productMetaInfo']/h4[1]\")):\n",
    "        Description.append(i.text)\n",
    "    for i in list(driver.find_elements_by_xpath(\"//span[@class='product-discountedPrice']\")):\n",
    "         Price.append(i.text)\n",
    "    driver.find_element_by_xpath(\"//li[@class='pagination-next']/a\").click()\n",
    "    time.sleep(5)"
   ]
  },
  {
   "cell_type": "code",
   "execution_count": 51,
   "metadata": {},
   "outputs": [],
   "source": [
    "myntra=pd.DataFrame({\"Brand\":Brand[:100],\"Description:Description\":Description[:100],\"Price\":Price[:100]})"
   ]
  },
  {
   "cell_type": "code",
   "execution_count": 52,
   "metadata": {},
   "outputs": [
    {
     "data": {
      "text/html": [
       "<div>\n",
       "<style scoped>\n",
       "    .dataframe tbody tr th:only-of-type {\n",
       "        vertical-align: middle;\n",
       "    }\n",
       "\n",
       "    .dataframe tbody tr th {\n",
       "        vertical-align: top;\n",
       "    }\n",
       "\n",
       "    .dataframe thead th {\n",
       "        text-align: right;\n",
       "    }\n",
       "</style>\n",
       "<table border=\"1\" class=\"dataframe\">\n",
       "  <thead>\n",
       "    <tr style=\"text-align: right;\">\n",
       "      <th></th>\n",
       "      <th>Brand</th>\n",
       "      <th>Description:Description</th>\n",
       "      <th>Price</th>\n",
       "    </tr>\n",
       "  </thead>\n",
       "  <tbody>\n",
       "    <tr>\n",
       "      <th>0</th>\n",
       "      <td>Nike</td>\n",
       "      <td>Men REACT PHANTOM Running</td>\n",
       "      <td>Rs. 7799</td>\n",
       "    </tr>\n",
       "    <tr>\n",
       "      <th>1</th>\n",
       "      <td>Nike</td>\n",
       "      <td>Men JORDAN DELTA Sneakers</td>\n",
       "      <td>Rs. 6599</td>\n",
       "    </tr>\n",
       "    <tr>\n",
       "      <th>2</th>\n",
       "      <td>Nike</td>\n",
       "      <td>Men Solid SKYVE MAX Sneakers</td>\n",
       "      <td>Rs. 6999</td>\n",
       "    </tr>\n",
       "    <tr>\n",
       "      <th>3</th>\n",
       "      <td>Reebok</td>\n",
       "      <td>Forever Floatride Energy 2</td>\n",
       "      <td>Rs. 7799</td>\n",
       "    </tr>\n",
       "    <tr>\n",
       "      <th>4</th>\n",
       "      <td>ALDO</td>\n",
       "      <td>Men Leather Loafers</td>\n",
       "      <td>Rs. 11099</td>\n",
       "    </tr>\n",
       "  </tbody>\n",
       "</table>\n",
       "</div>"
      ],
      "text/plain": [
       "    Brand       Description:Description      Price\n",
       "0    Nike     Men REACT PHANTOM Running   Rs. 7799\n",
       "1    Nike     Men JORDAN DELTA Sneakers   Rs. 6599\n",
       "2    Nike  Men Solid SKYVE MAX Sneakers   Rs. 6999\n",
       "3  Reebok    Forever Floatride Energy 2   Rs. 7799\n",
       "4    ALDO           Men Leather Loafers  Rs. 11099"
      ]
     },
     "execution_count": 52,
     "metadata": {},
     "output_type": "execute_result"
    }
   ],
   "source": [
    "myntra.head()"
   ]
  },
  {
   "cell_type": "code",
   "execution_count": 54,
   "metadata": {},
   "outputs": [],
   "source": [
    "#convert to csv file\n",
    "myntra.to_csv(\"myntra.csv\")"
   ]
  }
 ],
 "metadata": {
  "kernelspec": {
   "display_name": "Python 3",
   "language": "python",
   "name": "python3"
  },
  "language_info": {
   "codemirror_mode": {
    "name": "ipython",
    "version": 3
   },
   "file_extension": ".py",
   "mimetype": "text/x-python",
   "name": "python",
   "nbconvert_exporter": "python",
   "pygments_lexer": "ipython3",
   "version": "3.8.3"
  }
 },
 "nbformat": 4,
 "nbformat_minor": 4
}
